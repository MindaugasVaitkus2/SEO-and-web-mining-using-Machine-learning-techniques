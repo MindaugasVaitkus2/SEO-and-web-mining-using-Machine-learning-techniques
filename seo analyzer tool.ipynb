{
 "cells": [
  {
   "cell_type": "code",
   "execution_count": 1,
   "metadata": {},
   "outputs": [],
   "source": [
    "from urllib.request import urlopen\n",
    "from bs4 import BeautifulSoup\n",
    "import re"
   ]
  },
  {
   "cell_type": "code",
   "execution_count": 5,
   "metadata": {},
   "outputs": [
    {
     "name": "stdout",
     "output_type": "stream",
     "text": [
      "webpage:https://newsmonks.com/the-real-meaning-of-meditation/\n"
     ]
    }
   ],
   "source": [
    "url=input('webpage:')"
   ]
  },
  {
   "cell_type": "code",
   "execution_count": 6,
   "metadata": {},
   "outputs": [
    {
     "name": "stdout",
     "output_type": "stream",
     "text": [
      "what is your seo keyword:Meditation\n"
     ]
    }
   ],
   "source": [
    "keyword=input(\"what is your seo keyword:\")\n",
    "keyword=keyword.casefold()"
   ]
  },
  {
   "cell_type": "code",
   "execution_count": 7,
   "metadata": {},
   "outputs": [],
   "source": [
    "#req=Request(url, headers={'User-Agent':'Mozilla/6.0'})\n",
    "html=urlopen('https://newsmonks.com/the-real-meaning-of-meditation/')\n",
    "#except HTTPerror as eprint(e)\n",
    "\n"
   ]
  },
  {
   "cell_type": "code",
   "execution_count": 8,
   "metadata": {},
   "outputs": [],
   "source": [
    "data=BeautifulSoup(html,\"html.parser\")"
   ]
  },
  {
   "cell_type": "code",
   "execution_count": 9,
   "metadata": {},
   "outputs": [
    {
     "name": "stdout",
     "output_type": "stream",
     "text": [
      "Overwriting stopwords.txt\n"
     ]
    }
   ],
   "source": [
    "%%writefile stopwords.txt\n",
    "    \"a\", \"about\", \"above\", \"across\", \"after\", \"afterwards\", \"again\", \"against\",\n",
    "    \"all\", \"almost\", \"alone\", \"along\", \"already\", \"also\", \"although\", \"always\",\n",
    "    \"am\", \"among\", \"amongst\", \"amoungst\", \"amount\", \"an\", \"and\", \"another\",\n",
    "    \"any\", \"anyhow\", \"anyone\", \"anything\", \"anyway\", \"anywhere\", \"are\",\n",
    "    \"around\", \"as\", \"at\", \"back\", \"be\", \"became\", \"because\", \"become\",\n",
    "    \"becomes\", \"becoming\", \"been\", \"before\", \"beforehand\", \"behind\", \"being\",\n",
    "    \"below\", \"beside\", \"besides\", \"between\", \"beyond\", \"bill\", \"both\",\n",
    "    \"bottom\", \"but\", \"by\", \"call\", \"can\", \"cannot\", \"cant\", \"co\", \"con\",\n",
    "    \"could\", \"couldnt\", \"cry\", \"de\", \"describe\", \"detail\", \"do\", \"done\",\n",
    "    \"down\", \"due\", \"during\", \"each\", \"eg\", \"eight\", \"either\", \"eleven\", \"else\",\n",
    "    \"elsewhere\", \"empty\", \"enough\", \"etc\", \"even\", \"ever\", \"every\", \"everyone\",\n",
    "    \"everything\", \"everywhere\", \"except\", \"few\", \"fifteen\", \"fify\", \"fill\",\n",
    "    \"find\", \"fire\", \"first\", \"five\", \"for\", \"former\", \"formerly\", \"forty\",\n",
    "    \"found\", \"four\", \"from\", \"front\", \"full\", \"further\", \"get\", \"give\", \"go\",\n",
    "    \"had\", \"has\", \"hasnt\", \"have\", \"he\", \"hence\", \"her\", \"here\", \"hereafter\",\n",
    "    \"hereby\", \"herein\", \"hereupon\", \"hers\", \"herself\", \"him\", \"himself\", \"his\",\n",
    "    \"how\", \"however\", \"hundred\", \"i\", \"ie\", \"if\", \"in\", \"inc\", \"indeed\",\n",
    "    \"interest\", \"into\", \"is\", \"it\", \"its\", \"itself\", \"keep\", \"last\", \"latter\",\n",
    "    \"latterly\", \"least\", \"less\", \"ltd\", \"made\", \"many\", \"may\", \"me\",\n",
    "    \"meanwhile\", \"might\", \"mill\", \"mine\", \"more\", \"moreover\", \"most\", \"mostly\",\n",
    "    \"move\", \"much\", \"must\", \"my\", \"myself\", \"name\", \"namely\", \"neither\",\n",
    "    \"never\", \"nevertheless\", \"next\", \"nine\", \"no\", \"nobody\", \"none\", \"noone\",\n",
    "    \"nor\", \"not\", \"nothing\", \"now\", \"nowhere\", \"of\", \"off\", \"often\", \"on\",\n",
    "    \"once\", \"one\", \"only\", \"onto\", \"or\", \"other\", \"others\", \"otherwise\", \"our\",\n",
    "    \"ours\", \"ourselves\", \"out\", \"over\", \"own\", \"part\", \"per\", \"perhaps\",\n",
    "    \"please\", \"put\", \"rather\", \"re\", \"same\", \"see\", \"seem\", \"seemed\",\n",
    "    \"seeming\", \"seems\", \"serious\", \"several\", \"she\", \"should\", \"show\", \"side\",\n",
    "    \"since\", \"sincere\", \"six\", \"sixty\", \"so\", \"some\", \"somehow\", \"someone\",\n",
    "    \"something\", \"sometime\", \"sometimes\", \"somewhere\", \"still\", \"such\",\n",
    "    \"system\", \"take\", \"ten\", \"than\", \"that\", \"the\", \"their\", \"them\",\n",
    "    \"themselves\", \"then\", \"thence\", \"there\", \"thereafter\", \"thereby\",\n",
    "    \"therefore\", \"therein\", \"thereupon\", \"these\", \"they\",\n",
    "    \"third\", \"this\", \"those\", \"though\", \"three\", \"through\", \"throughout\",\n",
    "    \"thru\", \"thus\", \"to\", \"together\", \"too\", \"top\", \"toward\", \"towards\",\n",
    "    \"twelve\", \"twenty\", \"two\", \"un\", \"under\", \"until\", \"up\", \"upon\", \"us\",\n",
    "    \"very\", \"via\", \"was\", \"we\", \"well\", \"were\", \"what\", \"whatever\", \"when\",\n",
    "    \"whence\", \"whenever\", \"where\", \"whereafter\", \"whereas\", \"whereby\",\n",
    "    \"wherein\", \"whereupon\", \"wherever\", \"whether\", \"which\", \"while\", \"whither\",\n",
    "    \"who\", \"whoever\", \"whole\", \"whom\", \"whose\", \"why\", \"will\", \"with\",\n",
    "    \"within\", \"without\", \"would\", \"yet\", \"you\", \"your\", \"yours\", \"yourself\",\n",
    "    \"yourselves\""
   ]
  },
  {
   "cell_type": "code",
   "execution_count": 19,
   "metadata": {},
   "outputs": [
    {
     "name": "stdout",
     "output_type": "stream",
     "text": [
      "Not Found\n",
      "we could not find title\n",
      "your length is under maximum suggested length of 60 charascters.your titlle id 38\n",
      "your keyword was not found in your slug.it is suggested to add keyword to your slug\n",
      "your url is less than the 100 characters maximum.good work\n",
      "did not found a keyword in h1 tag\n",
      "no h2 tags found. you should have at least one containing your keyword\n"
     ]
    }
   ],
   "source": [
    "def seo_title_found(keyword,data):\n",
    "    if data.title:   \n",
    "        if keyword in data.title.text.casefold():\n",
    "            status=\"found\"\n",
    "        else:\n",
    "            status=\"Not Found\"\n",
    "    else:\n",
    "        status=\"Not title found\"\n",
    "    return status\n",
    "def seo_title_stop_words(data):\n",
    "    words=0\n",
    "    list_words=[]\n",
    "    if data.title:\n",
    "        with open('stopwords.txt','r')as f:\n",
    "            for line in f:\n",
    "                if re.search(r'\\b' + line.rstrip('\\n') + r'\\b', data.title.text.casefold()):\n",
    "                    words +=1\n",
    "                    list_words.append(line.rstrip('\\n'))\n",
    "                    if words>0:\n",
    "                        stop_words =\"we found {} stopwords in the title. you remove them\".format(words)\n",
    "                    else:\n",
    "                        stop_words=\"we found no stopword in title. good work\"\n",
    "                else:\n",
    "                    stop_words=\"we could not find title\"\n",
    "                return stop_words   \n",
    "def seo_title_length(data):\n",
    "    if data.title:\n",
    "        if len(data.title.text)<60:\n",
    "            length=\"your length is under maximum suggested length of 60 charascters.your titlle id {}\".format(len(data.title.text))\n",
    "        else:\n",
    "            length=\"your length is over the maximum suggested length of 60 characters.your title is {}\".format(len(data.title.text))\n",
    "    else:\n",
    "        length=\"no title found\"\n",
    "    return length\n",
    "def seo_url(url):\n",
    "    if url:\n",
    "        if keyword in url:\n",
    "            slug=\"your keyword was found in your slug\"\n",
    "        else:\n",
    "            slug=\"your keyword was not found in your slug.it is suggested to add keyword to your slug\"\n",
    "    else:\n",
    "        slug=\"no url was returned\"\n",
    "    return slug    \n",
    "def seo_url_length(url):\n",
    "    if url:\n",
    "        if len(url)<100:\n",
    "            url_length=\"your url is less than the 100 characters maximum.good work\"\n",
    "        else:\n",
    "            url_length=\"your url length is over 100 characters.your url is currently{}.you should change this\".format(len(url))\n",
    "    else:\n",
    "        url_length=\"url was not found\"\n",
    "    return url_length    \n",
    "def seo_h1(keyword,data):\n",
    "    total_h1=0\n",
    "    total_keyword_h1=0\n",
    "\n",
    "    if data.h1:\n",
    "        all_tags=data.find_all('h1')\n",
    "        for tag in all_tags:\n",
    "            total_h1+=1\n",
    "            tag=str(tag.string)\n",
    "            if keyword in tag.casefold():\n",
    "                total_keyword_h1+=1\n",
    "                h1_tag=\"found keyword in h1 tag.you have total of {} h1 tags and your keyword found in {} of them\".format(total_h1,total_keyword_h1)\n",
    "            else:\n",
    "                h1_tag=\"did not found a keyword in h1 tag\"\n",
    "    else:\n",
    "        h1_tag=\"no h1 tag found\"\n",
    "    return h1_tag    \n",
    "def seo_h2(keyword,data):\n",
    "    if data.h2:\n",
    "        all_tags=data.find_all('h2')\n",
    "        for tag in all_tags:\n",
    "            tag=str(tag.string)\n",
    "            if keyword in tag.casefold():\n",
    "                h2_tag=\"found your keyword in at least one h2 tag\"\n",
    "            else:\n",
    "                h2_tag=\"we did not find your keyword in a single h2 tag. you should add {} to h2 tag\".format(keyword)\n",
    "        else:\n",
    "            h2_tag=\"no h2 tags found. you should have at least one containing your keyword\"\n",
    "        return h2_tag    \n",
    "print(seo_title_found(keyword,data))\n",
    "print(seo_title_stop_words(data))\n",
    "print(seo_title_length(data))\n",
    "print(seo_url(url))\n",
    "print(seo_url_length(url))\n",
    "print(seo_h1(keyword,data))\n",
    "print(seo_h2(keyword,data))"
   ]
  },
  {
   "cell_type": "code",
   "execution_count": null,
   "metadata": {},
   "outputs": [],
   "source": []
  },
  {
   "cell_type": "code",
   "execution_count": null,
   "metadata": {},
   "outputs": [],
   "source": []
  }
 ],
 "metadata": {
  "kernelspec": {
   "display_name": "Python 3",
   "language": "python",
   "name": "python3"
  },
  "language_info": {
   "codemirror_mode": {
    "name": "ipython",
    "version": 3
   },
   "file_extension": ".py",
   "mimetype": "text/x-python",
   "name": "python",
   "nbconvert_exporter": "python",
   "pygments_lexer": "ipython3",
   "version": "3.7.4"
  }
 },
 "nbformat": 4,
 "nbformat_minor": 2
}
